{
 "cells": [
  {
   "cell_type": "code",
   "execution_count": 1,
   "id": "3c25bedd",
   "metadata": {
    "scrolled": true
   },
   "outputs": [],
   "source": [
    "!pip -q install --upgrade google-generativeai pillow"
   ]
  },
  {
   "cell_type": "code",
   "execution_count": 2,
   "id": "1401947a",
   "metadata": {
    "scrolled": true
   },
   "outputs": [],
   "source": [
    "import os\n",
    "import textwrap\n",
    "import google.generativeai as genai"
   ]
  },
  {
   "cell_type": "code",
   "execution_count": 3,
   "id": "b6cbb02a",
   "metadata": {
    "scrolled": true
   },
   "outputs": [],
   "source": [
    "api_key = \"\" \n",
    "genai.configure(api_key=api_key)"
   ]
  },
  {
   "cell_type": "code",
   "execution_count": 4,
   "id": "3dbe62dc",
   "metadata": {
    "collapsed": true
   },
   "outputs": [
    {
     "name": "stdout",
     "output_type": "stream",
     "text": [
      "models/gemini-1.5-pro-latest\n",
      "models/gemini-1.5-pro-002\n",
      "models/gemini-1.5-pro\n",
      "models/gemini-1.5-flash-latest\n",
      "models/gemini-1.5-flash\n",
      "models/gemini-1.5-flash-002\n",
      "models/gemini-1.5-flash-8b\n",
      "models/gemini-1.5-flash-8b-001\n",
      "models/gemini-1.5-flash-8b-latest\n",
      "models/gemini-2.5-pro-preview-03-25\n",
      "models/gemini-2.5-flash-preview-05-20\n",
      "models/gemini-2.5-flash\n",
      "models/gemini-2.5-flash-lite-preview-06-17\n",
      "models/gemini-2.5-pro-preview-05-06\n",
      "models/gemini-2.5-pro-preview-06-05\n",
      "models/gemini-2.5-pro\n",
      "models/gemini-2.0-flash-exp\n",
      "models/gemini-2.0-flash\n",
      "models/gemini-2.0-flash-001\n",
      "models/gemini-2.0-flash-lite-001\n",
      "models/gemini-2.0-flash-lite\n",
      "models/gemini-2.0-flash-lite-preview-02-05\n",
      "models/gemini-2.0-flash-lite-preview\n",
      "models/gemini-2.0-pro-exp\n",
      "models/gemini-2.0-pro-exp-02-05\n",
      "models/gemini-exp-1206\n",
      "models/gemini-2.0-flash-thinking-exp-01-21\n",
      "models/gemini-2.0-flash-thinking-exp\n",
      "models/gemini-2.0-flash-thinking-exp-1219\n",
      "models/gemini-2.5-flash-preview-tts\n",
      "models/gemini-2.5-pro-preview-tts\n",
      "models/learnlm-2.0-flash-experimental\n",
      "models/gemma-3-1b-it\n",
      "models/gemma-3-4b-it\n",
      "models/gemma-3-12b-it\n",
      "models/gemma-3-27b-it\n",
      "models/gemma-3n-e4b-it\n",
      "models/gemma-3n-e2b-it\n",
      "models/gemini-2.5-flash-lite\n"
     ]
    }
   ],
   "source": [
    "for m in genai.list_models():\n",
    "    if \"generateContent\" in m.supported_generation_methods:\n",
    "        print(m.name)"
   ]
  },
  {
   "cell_type": "code",
   "execution_count": 12,
   "id": "a0c14aee",
   "metadata": {
    "scrolled": true
   },
   "outputs": [],
   "source": [
    "from IPython.display import Markdown, display"
   ]
  },
  {
   "cell_type": "code",
   "execution_count": 23,
   "id": "bc78b0c3",
   "metadata": {},
   "outputs": [
    {
     "name": "stdout",
     "output_type": "stream",
     "text": [
      "Redemption & Booking\n",
      "Reservation required.\n",
      "Eligibility & Restrictions\n",
      "Must be 14 or older.\n",
      "Not valid for clients active within the past 3 month(s).\n",
      "Additional Info\n",
      "For five class options, must use all sessions within the 5 week period redemption of first session.\n",
      "Terms & Conditions\n",
      "Limit 1 per person(s), may buy 1 additional as gift(s).\n",
      "May be repurchased every 365 days.\n",
      "Merchant's standard cancellation policy applies (any fees not to exceed Groupon price).\n",
      "Legal Disclosures\n",
      "Promotional value expires 120 days after purchase. Amount paid never expires.\n",
      "Merchant is solely responsible to purchasers for the care and quality of the advertised goods and services.\n",
      "Learn about Strike-Through Pricing and Savings\n"
     ]
    },
    {
     "data": {
      "text/markdown": [
       "# Merchant: Latin Techniques Dance Studio\n",
       "\n",
       "# Highlights:\n",
       "1. 120-day expiration on promotional value.\n",
       "2. Must use all 5 classes within 5 weeks of first session (for 5-class option).\n",
       "3.  Must be 14+ years old and not a returning customer within the last 3 months.\n",
       "\n",
       "\n",
       "# Offer conditions:\n",
       "\n",
       "**Booking & Redemption:**\n",
       "\n",
       "* Reservation is required.\n",
       "\n",
       "**Eligibility:**\n",
       "\n",
       "* Must be 14 years of age or older.\n",
       "* Not valid for clients who have used the studio's services in the past 3 months.\n",
       "\n",
       "**Class Options (5-class package):**\n",
       "\n",
       "* All five classes must be used within the 5-week period following the redemption of your first class.\n",
       "\n",
       "**Purchase Limits:**\n",
       "\n",
       "* Limit 1 per person.\n",
       "* 1 additional voucher may be purchased as a gift.\n",
       "* Repurchasing is allowed every 365 days.\n",
       "\n",
       "**Cancellation:**\n",
       "\n",
       "* Merchant's standard cancellation policy applies.  Any cancellation fees will not exceed the Groupon price.\n",
       "\n",
       "**Expiration:**\n",
       "\n",
       "* Promotional value expires 120 days after purchase.  The amount paid will not expire.\n",
       "\n",
       "**Legal:**\n",
       "\n",
       "* The merchant is solely responsible for the quality of goods and services.\n",
       "* [Learn about Strike-Through Pricing and Savings](Link to Groupon's explanation -  replace with actual link if available)\n",
       "\n"
      ],
      "text/plain": [
       "<IPython.core.display.Markdown object>"
      ]
     },
     "metadata": {},
     "output_type": "display_data"
    }
   ],
   "source": [
    "model = genai.GenerativeModel(\"gemini-1.5-flash\")  # fast & cheap; use 1.5-pro for higher quality\n",
    "\n",
    "prompt = \"\"\"\n",
    "Below you will find a merchant-provided offer conditions on Gruopon. \n",
    "Your task is\n",
    "1. Extract 3 most important highlights affecting booking success such as time constraints. It must be short sentences, or tags.\n",
    "2. Restructure text for clarity. Use paragraphs, bullet points, lists, hyperlinks. Use short and consice wording.\n",
    "\n",
    "Text:\n",
    "\n",
    "\n",
    "Redemption & Booking\n",
    "Reservation required.\n",
    "Eligibility & Restrictions\n",
    "Must be 14 or older.\n",
    "Not valid for clients active within the past 3 month(s).\n",
    "Additional Info\n",
    "For five class options, must use all sessions within the 5 week period redemption of first session.\n",
    "Terms & Conditions\n",
    "Limit 1 per person(s), may buy 1 additional as gift(s).\n",
    "May be repurchased every 365 days.\n",
    "Merchant's standard cancellation policy applies (any fees not to exceed Groupon price).\n",
    "Legal Disclosures\n",
    "Promotional value expires 120 days after purchase. Amount paid never expires.\n",
    "Merchant is solely responsible to purchasers for the care and quality of the advertised goods and services.\n",
    "Learn about Strike-Through Pricing and Savings\n",
    "\n",
    "Output structure:\n",
    "\n",
    "# Merchant: Latin Techniques Dance Studio\n",
    "\n",
    "# Highlights: \n",
    "1.\n",
    "2.\n",
    "3.\n",
    "\n",
    "\n",
    "# Offer conditions:\n",
    "\n",
    "\"\"\"\n",
    "resp = model.generate_content(prompt)\n",
    "\n",
    "print ('''Redemption & Booking\n",
    "Reservation required.\n",
    "Eligibility & Restrictions\n",
    "Must be 14 or older.\n",
    "Not valid for clients active within the past 3 month(s).\n",
    "Additional Info\n",
    "For five class options, must use all sessions within the 5 week period redemption of first session.\n",
    "Terms & Conditions\n",
    "Limit 1 per person(s), may buy 1 additional as gift(s).\n",
    "May be repurchased every 365 days.\n",
    "Merchant's standard cancellation policy applies (any fees not to exceed Groupon price).\n",
    "Legal Disclosures\n",
    "Promotional value expires 120 days after purchase. Amount paid never expires.\n",
    "Merchant is solely responsible to purchasers for the care and quality of the advertised goods and services.\n",
    "Learn about Strike-Through Pricing and Savings''')\n",
    "\n",
    "display(Markdown(resp.text))"
   ]
  },
  {
   "cell_type": "code",
   "execution_count": 22,
   "id": "37be1b02",
   "metadata": {
    "scrolled": false
   },
   "outputs": [
    {
     "data": {
      "text/markdown": [
       "# Merchant: Massagestudio für ThaiMassage\n",
       "\n",
       "# Highlights:\n",
       "1. 6-month validity period.\n",
       "2. Mandatory appointment scheduling.\n",
       "3. 12-hour cancellation notice required.\n",
       "\n",
       "\n",
       "# Offer Conditions:\n",
       "\n",
       "This offer includes a pressure treatment with hot Asian herbs.\n",
       "\n",
       "**Booking:**\n",
       "\n",
       "*   Your voucher is valid for 6 months from the date of purchase.\n",
       "*   Only one voucher can be redeemed per person.\n",
       "*   **Appointments are mandatory and must be booked online:** [www.groupon.de/reservations](www.groupon.de/reservations)  Remember to provide your voucher code. Check the booking tool for available dates and times.\n",
       "*   Please provide a phone number for easy rescheduling if needed.\n",
       "*   **Cancellations must be made at least 12 hours in advance.** Failure to cancel within this timeframe or non-attendance will result in the forfeiture of your appointment. No alternative appointments will be guaranteed.\n",
       "*   Please present your printed voucher upon arrival.\n",
       "\n",
       "\n",
       "*Price Disclaimer:* The discount is based on the original price at the time of the advertisement's first publication on 09/09/2015.\n"
      ],
      "text/plain": [
       "<IPython.core.display.Markdown object>"
      ]
     },
     "metadata": {},
     "output_type": "display_data"
    }
   ],
   "source": [
    "prompt = \"\"\"\n",
    "Below you will find a merchant-provided offer conditions on Gruopon.\n",
    "Your task is\n",
    "1. Extract 3 most important highlights affecting booking success such as time constraints. It must be short sentences, or tags.\n",
    "2. Restructure text for clarity. Use paragraphs, bullet points, lists, hyperlinks. Use short and consice wording.\n",
    "\n",
    "Text:\n",
    "Pressurbehandlung wird mit heißen asiatischen Kräutern durchgeführt. \n",
    "Einlösbarkeit: 6 Monate ab Kauf gültig. 1 Gutschein pro Person einlösbar. \n",
    "Terminvereinbarung nach Verfügbarkeit verbindlich erforderlich unter www.groupon.de/reservations \n",
    "mit Angabe des Gutschein-Codes. Bitte das Buchungstool auf aktuell verfügbare Daten und Zeiten prüfen. \n",
    "Bitte bei der Reservierung unbedingt eine Telefonnummer angeben, so dass\n",
    "bei notwendigen Umbuchungen gleich ein neuer Termin vereinbart werden kann. \n",
    "Terminabsage bis mind. 12 Std. im Voraus.\n",
    "Bei Nichteinhalten des Termins oder verspäteter Absage wird kein Ersatztermin gewährleistet. \n",
    "Weitere Informationen: Ausgedruckter Gutschein ist bei Ankunft vorzuzeigen.\n",
    "\n",
    "Preisnachweis: *Der Rabatt bezieht sich auf den Originalpreis zum Zeitpunkt der ersten Veröffentlichung der Werbung am 09.09.2015.\n",
    "\n",
    "Output language: english\n",
    "\n",
    "Output structure:\n",
    "\n",
    "# Merchant: Massagestudio für ThaiMassage\n",
    "\n",
    "# Highlights: \n",
    "1.\n",
    "2.\n",
    "3.\n",
    "\n",
    "\n",
    "# Offer conditions:\n",
    "\n",
    "\"\"\"\n",
    "resp = model.generate_content(prompt)\n",
    "\n",
    "display(Markdown(resp.text))"
   ]
  },
  {
   "cell_type": "code",
   "execution_count": 25,
   "id": "e224e9fc",
   "metadata": {},
   "outputs": [
    {
     "data": {
      "text/markdown": [
       "# Merchant: LG-Expro (Shop-Story)\n",
       "\n",
       "# Highlights:\n",
       "1. **15-day delivery:**  Allow 15 business days for shipping.\n",
       "2. **Non-changeable address:**  Delivery address cannot be changed after ordering.\n",
       "3. **Contact for returns:** Contact serviceclients@shop-story.fr for returns.\n",
       "\n",
       "\n",
       "# Offer Conditions:\n",
       "\n",
       "**Shipping:**\n",
       "\n",
       "* Free shipping.\n",
       "* Delivery within 15 business days (Monday-Friday).\n",
       "* Delivery address is required at checkout and cannot be changed afterward.\n",
       "\n",
       "**Returns & Questions:**\n",
       "\n",
       "* Products sold by LG-Expro (8 Rue du Vercors, Mours Saint Eusèbe, 26540, FR).\n",
       "* For return policy, [click here](insert link here -  this link is missing from the original text).\n",
       "* Contact serviceclients@shop-story.fr for inquiries.\n",
       "\n",
       "\n",
       "**Data Sharing:**\n",
       "\n",
       "* Groupon may share your phone number and email address with its suppliers/couriers for delivery purposes only.\n",
       "\n",
       "**Manufacturer:**\n",
       "\n",
       "* Guangzhou Aozhong Trade Co.,Ltd.\n",
       "    * Room 406, No.9 Jiangxia North Middle Road Huangshi Street, Baiyun District, Guangzhou City, Guangdong Province CHINA\n",
       "    * Tel: +8613631325957\n",
       "    * Email: global_fashion@foxmail.com\n",
       "\n",
       "**EU Responsible Company:**\n",
       "\n",
       "* LG-EXPRO (Shop-Story)\n",
       "    * Z.A. Les Revols, 8 Rue du Vercors, 26540 - Mours-Saint-Eusebe FRANCE\n",
       "    * Tel: +33475471419\n",
       "    * Email: contact@shop-story.fr\n",
       "\n"
      ],
      "text/plain": [
       "<IPython.core.display.Markdown object>"
      ]
     },
     "metadata": {},
     "output_type": "display_data"
    }
   ],
   "source": [
    "prompt = \"\"\"\n",
    "Below you will find a merchant-provided offer conditions on Gruopon.\n",
    "Your task is\n",
    "1. Extract 3 most important highlights affecting booking success such as time constraints. It must be short sentences, or tags.\n",
    "2. Restructure text for clarity. Use paragraphs, bullet points, lists, hyperlinks. Use short and consice wording.\n",
    "\n",
    "Versand: Kostenlos. Lieferung in 15 Werktagen (Montag bis Freitag).\n",
    "Deine Bestellung: Beim Kauf ist eine Lieferadresse anzugeben. Die Lieferadresse kann nach der Bestellung nicht geändert werden.\n",
    "Rücksendungen und Fragen: Produkte verkauft von LG-Expro. Eingetragene Adresse: 8 Rue du Vercors, Mours Saint Eusèbe, 26540, FR. Für Rückgaberichtlinien klick hier. Bei Rückfragen wende Dich bitte an: serviceclients@shop-story.fr.\n",
    "\n",
    "Groupon muss möglicherweise Telefonnummern und E-Mail-Adressen an seine Lieferanten und/oder Kurierunternehmen übermitteln, um die Lieferung einer Bestellung zu unterstützen. Sie werden diese Daten ausschließlich dafür verwenden, mit Dir in Kontakt zu treten um eine erfolgreiche Auslieferung der Bestellung zu unterstützen.\n",
    "\n",
    "Sicherheitsinformationen\n",
    "\n",
    "Hersteller:\n",
    "Guangzhou Aozhong Trade Co.,Ltd..\n",
    "Room 406, No.9 Jiangxia North Middle Road Huangshi Street, Baiyun District, Guangzhou City, Guangdong Province CHINA\n",
    "Tel : +8613631325957 Mail : global_fashion@foxmail.com\n",
    "Unternehmen/Person verantwortlich für die EU:\n",
    "Entreprise : LG-EXPRO Nom commercial : Shop-Story.\n",
    "Z.A. Les Revols, 8 Rue du Vercors, 26540 - Mours-Saint-Eusebe FRANCE\n",
    "Tel. : +33475471419 Mail : contact@shop-story.fr\n",
    "\n",
    "Output language: english\n",
    "\n",
    "Output structure:\n",
    "\n",
    "# Merchant: Massagestudio für ThaiMassage\n",
    "\n",
    "# Highlights: \n",
    "1.\n",
    "2.\n",
    "3.\n",
    "\n",
    "\n",
    "# Offer conditions:\n",
    "\n",
    "\"\"\"\n",
    "resp = model.generate_content(prompt)\n",
    "\n",
    "display(Markdown(resp.text))"
   ]
  },
  {
   "cell_type": "code",
   "execution_count": null,
   "id": "cc126951",
   "metadata": {
    "scrolled": true
   },
   "outputs": [],
   "source": []
  }
 ],
 "metadata": {
  "kernelspec": {
   "display_name": "Python 3 (ipykernel)",
   "language": "python",
   "name": "python3"
  },
  "language_info": {
   "codemirror_mode": {
    "name": "ipython",
    "version": 3
   },
   "file_extension": ".py",
   "mimetype": "text/x-python",
   "name": "python",
   "nbconvert_exporter": "python",
   "pygments_lexer": "ipython3",
   "version": "3.11.5"
  }
 },
 "nbformat": 4,
 "nbformat_minor": 5
}
